{
 "cells": [
  {
   "cell_type": "code",
   "execution_count": 14,
   "metadata": {},
   "outputs": [],
   "source": [
    "#Question\n",
    "\n",
    "#6)Write a program to create a knowledgebase using prepositional logic  and  show that the given query entails the knowledge base or not .\t\n",
    "# set 1:\n",
    "# Enter rule  :(~qv~pvr)^(~q^p)^q\n",
    "# Enter the Query : r\n",
    "\n",
    "# Enter rule  :(pvq)^(~rvp)\n",
    "# Enter the Query : r\n",
    "\n",
    "\n",
    "# definition of entailment\n",
    "# a sentence a is entailed by a knowledge base KB if the models of KB are all models of a. If this is\n",
    "# the case, then whenever KB is true, a must also be true."
   ]
  },
  {
   "cell_type": "code",
   "execution_count": 26,
   "metadata": {},
   "outputs": [],
   "source": [
    "variable={'p':0,'q':1, 'r':2}\n",
    "priority={'~':3,'v':1,'^':2}\n",
    "def _eval(i, val1, val2):\n",
    "    if i == '^': \n",
    "        return val2 and val1\n",
    "    return val2 or val1\n",
    "\n",
    "def isOperand(c):\n",
    "    return c.isalpha() and c != 'v'\n",
    "\n",
    "\n",
    "def isLeftParanthesis(c):\n",
    "    return c == '('\n",
    "\n",
    "\n",
    "def isRightParanthesis(c):\n",
    "    return c == ')'\n",
    "\n",
    "\n",
    "def isEmpty(stack):\n",
    "    return len(stack) == 0\n",
    "\n",
    "\n",
    "def peek(stack):\n",
    "    return stack[-1]\n",
    "\n",
    "\n",
    "def hasLessOrEqualPriority(c1, c2):\n",
    "    try:\n",
    "        return priority[c1] <= priority[c2]\n",
    "    except KeyError:\n",
    "        return False\n",
    "\n",
    "\n",
    "def toPostfix(infix):\n",
    "    stack = []\n",
    "    postfix = ''\n",
    "    for c in infix:\n",
    "        if isOperand(c):\n",
    "            postfix += c\n",
    "        else:\n",
    "            if isLeftParanthesis(c):\n",
    "                stack.append(c)\n",
    "            elif isRightParanthesis(c):\n",
    "                operator = stack.pop()\n",
    "                while not isLeftParanthesis(operator):\n",
    "                    postfix += operator\n",
    "                    operator = stack.pop()\n",
    "            else:\n",
    "                while (not isEmpty(stack)) and hasLessOrEqualPriority(c, peek(stack)):\n",
    "                    postfix += stack.pop()\n",
    "                stack.append(c)\n",
    "    while (not isEmpty(stack)):\n",
    "        postfix += stack.pop()\n",
    "\n",
    "    return postfix\n",
    "\n",
    "\n",
    "def evaluatePostfix(exp, comb):\n",
    "    stack = []\n",
    "    for i in exp:\n",
    "        if isOperand(i):\n",
    "            stack.append(comb[variable[i]])\n",
    "        elif i == '~':\n",
    "            val1 = stack.pop()\n",
    "            stack.append(not val1)\n",
    "        else:\n",
    "            val1 = stack.pop()\n",
    "            val2 = stack.pop()\n",
    "            stack.append(_eval(i, val2, val1))\n",
    "    return stack.pop()\n",
    "    "
   ]
  },
  {
   "cell_type": "code",
   "execution_count": 36,
   "metadata": {},
   "outputs": [],
   "source": [
    "def CheckEntailment():\n",
    "    kb=(input(\"Enter the knowledge base\"))\n",
    "    query=(input(\"Enter the query\"))\n",
    "    combinations=[[True,True,True],\n",
    "                  [True,True,False],\n",
    "                  [True,False,True],\n",
    "                  [True,False,False],\n",
    "                  [False,True,True],\n",
    "                  [False,True,False],\n",
    "                  [False,False,True],\n",
    "                  [False,False,False]]\n",
    "    postfix_kb=toPostfix(kb)\n",
    "    postfix_q=toPostfix(query)\n",
    "    for combination in combinations:\n",
    "        eval_kb=evaluatePostfix(postfix_kb,combination)\n",
    "        eval_q=evaluatePostfix(postfix_q,combination)           \n",
    "        print(combination,\":kb=\",eval_kb,\":q=\",eval_q)\n",
    "        if(eval_kb==True):\n",
    "            if(eval_q==False):\n",
    "                print(\" doesnt entail!!!\")\n",
    "                return False\n",
    "    print(\"Entails\")"
   ]
  },
  {
   "cell_type": "code",
   "execution_count": 33,
   "metadata": {},
   "outputs": [
    {
     "name": "stdout",
     "output_type": "stream",
     "text": [
      "Enter the knowledge base(pvq)^(~rvp)\n",
      "Enter the queryr\n",
      "[True, True, True] :kb= True :q= True\n",
      "[True, True, False] :kb= True :q= False\n",
      " doesnt entail!!!\n"
     ]
    },
    {
     "data": {
      "text/plain": [
       "False"
      ]
     },
     "execution_count": 33,
     "metadata": {},
     "output_type": "execute_result"
    }
   ],
   "source": [
    "CheckEntailment()"
   ]
  },
  {
   "cell_type": "code",
   "execution_count": 37,
   "metadata": {},
   "outputs": [
    {
     "name": "stdout",
     "output_type": "stream",
     "text": [
      "Enter the knowledge base(~qv~pvr)^(~q^p)^q\n",
      "Enter the queryr\n",
      "[True, True, True] :kb= False :q= True\n",
      "[True, True, False] :kb= False :q= False\n",
      "[True, False, True] :kb= False :q= True\n",
      "[True, False, False] :kb= False :q= False\n",
      "[False, True, True] :kb= False :q= True\n",
      "[False, True, False] :kb= False :q= False\n",
      "[False, False, True] :kb= False :q= True\n",
      "[False, False, False] :kb= False :q= False\n",
      "Entails\n"
     ]
    }
   ],
   "source": [
    "CheckEntailment()"
   ]
  },
  {
   "cell_type": "code",
   "execution_count": null,
   "metadata": {},
   "outputs": [],
   "source": []
  }
 ],
 "metadata": {
  "kernelspec": {
   "display_name": "Python 3",
   "language": "python",
   "name": "python3"
  },
  "language_info": {
   "codemirror_mode": {
    "name": "ipython",
    "version": 3
   },
   "file_extension": ".py",
   "mimetype": "text/x-python",
   "name": "python",
   "nbconvert_exporter": "python",
   "pygments_lexer": "ipython3",
   "version": "3.7.4"
  }
 },
 "nbformat": 4,
 "nbformat_minor": 2
}
