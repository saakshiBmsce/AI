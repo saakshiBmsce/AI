{
 "cells": [
  {
   "cell_type": "code",
   "execution_count": 2,
   "metadata": {},
   "outputs": [],
   "source": [
    "def print_grid(src):\n",
    "    state = src.copy()\n",
    "    state[state.index(-1)] = ' '\n",
    "    print(\n",
    "        f\"\"\"\n",
    "{state[0]} {state[1]} {state[2]}\n",
    "{state[3]} {state[4]} {state[5]}\n",
    "{state[6]} {state[7]} {state[8]}\n",
    "        \"\"\"\n",
    "    )"
   ]
  },
  {
   "cell_type": "code",
   "execution_count": 4,
   "metadata": {},
   "outputs": [],
   "source": [
    "def h(state, target):\n",
    "    #Manhattan distance\n",
    "    dist = 0\n",
    "    for i in state:\n",
    "        d1, d2 = state.index(i), target.index(i)\n",
    "        x1, y1 = d1 % 3, d1 // 3\n",
    "        x2, y2 = d2 % 3, d2 // 3\n",
    "        dist += abs(x1-x2) + abs(y1-y2)\n",
    "    return dist"
   ]
  },
  {
   "cell_type": "code",
   "execution_count": 9,
   "metadata": {},
   "outputs": [],
   "source": [
    "def F_n(state,target):\n",
    "    return G_n(state)+H_n(state,target)"
   ]
  },
  {
   "cell_type": "code",
   "execution_count": 6,
   "metadata": {},
   "outputs": [],
   "source": [
    "def astar(src, target):\n",
    "    states = [src]\n",
    "    g = 0\n",
    "    visited_states = set()\n",
    "    while len(states):\n",
    "        print(f\"Level: {g}\")\n",
    "        moves = []\n",
    "        for state in states:\n",
    "            visited_states.add(tuple(state))\n",
    "            print_grid(state)\n",
    "            if state == target:\n",
    "                print(\"Success\")\n",
    "                return\n",
    "            moves += [move for move in possible_moves(state, visited_states) if move not in moves]\n",
    "        costs = [g + h(move, target) for move in moves]\n",
    "        states = [moves[i] for i in range(len(moves)) if costs[i] == min(costs)]\n",
    "        g += 1\n",
    "    print(\"Fail\")"
   ]
  },
  {
   "cell_type": "code",
   "execution_count": 7,
   "metadata": {},
   "outputs": [],
   "source": [
    "def possible_moves(state, visited_states):\n",
    "    b = state.index(-1)  \n",
    "    d = []\n",
    "    if 9 > b - 3 >= 0: \n",
    "        d += 'u'\n",
    "    if 9 > b + 3 >= 0:\n",
    "        d += 'd'\n",
    "    if b not in [2,5,8]: \n",
    "        d += 'r'\n",
    "    if b not in [0,3,6]: \n",
    "        d += 'l'\n",
    "    pos_moves = []\n",
    "    for move in d:\n",
    "        pos_moves.append(gen(state,move,b))\n",
    "    return [move for move in pos_moves if tuple(move) not in visited_states]"
   ]
  },
  {
   "cell_type": "code",
   "execution_count": 8,
   "metadata": {},
   "outputs": [],
   "source": [
    "def gen(state, direction, b):\n",
    "    temp = state.copy()                              \n",
    "    if direction == 'u':\n",
    "        temp[b-3], temp[b] = temp[b], temp[b-3]\n",
    "    if direction == 'd':\n",
    "        temp[b+3], temp[b] = temp[b], temp[b+3]\n",
    "    if direction == 'r':\n",
    "        temp[b+1], temp[b] = temp[b], temp[b+1]\n",
    "    if direction == 'l':\n",
    "        temp[b-1], temp[b] = temp[b], temp[b-1]\n",
    "    return temp"
   ]
  },
  {
   "cell_type": "code",
   "execution_count": 10,
   "metadata": {},
   "outputs": [
    {
     "name": "stdout",
     "output_type": "stream",
     "text": [
      "Level: 0\n",
      "\n",
      "1 2 3\n",
      "  4 5\n",
      "6 7 8\n",
      "        \n",
      "Level: 1\n",
      "\n",
      "1 2 3\n",
      "4   5\n",
      "6 7 8\n",
      "        \n",
      "Level: 2\n",
      "\n",
      "1 2 3\n",
      "4 5  \n",
      "6 7 8\n",
      "        \n",
      "Success\n"
     ]
    }
   ],
   "source": [
    "src = [1,2,3,-1,4,5,6,7,8]\n",
    "target = [1,2,3,4,5,-1,6,7,8]         \n",
    "       \n",
    "\n",
    "\n",
    "astar(src, target)"
   ]
  },
  {
   "cell_type": "code",
   "execution_count": null,
   "metadata": {},
   "outputs": [],
   "source": []
  }
 ],
 "metadata": {
  "kernelspec": {
   "display_name": "Python 3",
   "language": "python",
   "name": "python3"
  },
  "language_info": {
   "codemirror_mode": {
    "name": "ipython",
    "version": 3
   },
   "file_extension": ".py",
   "mimetype": "text/x-python",
   "name": "python",
   "nbconvert_exporter": "python",
   "pygments_lexer": "ipython3",
   "version": "3.7.4"
  }
 },
 "nbformat": 4,
 "nbformat_minor": 2
}
