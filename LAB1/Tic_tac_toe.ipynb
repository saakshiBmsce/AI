{
 "cells": [
  {
   "cell_type": "code",
   "execution_count": 1,
   "metadata": {},
   "outputs": [],
   "source": [
    "import random;"
   ]
  },
  {
   "cell_type": "code",
   "execution_count": 2,
   "metadata": {},
   "outputs": [],
   "source": [
    "def Print(tictactoe):\n",
    "    print(\" ___________\");\n",
    "    for i in range(3):\n",
    "        print(\"| \"+tictactoe[i][0]+\" | \"+tictactoe[i][1]+\" | \"+tictactoe[i][2]+\" |\")\n",
    "        print(\"|___|___|___|\");"
   ]
  },
  {
   "cell_type": "code",
   "execution_count": 3,
   "metadata": {},
   "outputs": [],
   "source": [
    "def ini(tictactoe):\n",
    "    tictactoe=[[\" \",\" \",\" \"],[\" \",\" \",\" \"],[\" \",\" \",\" \"]];"
   ]
  },
  {
   "cell_type": "code",
   "execution_count": 4,
   "metadata": {},
   "outputs": [],
   "source": [
    "def checkWin(G):\n",
    "    if(((G[0][0]==\"X\")and(G[0][1]==\"X\")and(G[0][2]==\"X\"))or\n",
    "       ((G[1][0]==\"X\")and(G[1][1]==\"X\")and(G[1][2]==\"X\"))or\n",
    "       ((G[2][0]==\"X\")and(G[2][1]==\"X\")and(G[2][2]==\"X\"))or\n",
    "       ((G[0][0]==\"X\")and(G[1][1]==\"X\")and(G[2][2]==\"X\"))or\n",
    "       ((G[2][0]==\"X\")and(G[1][1]==\"X\")and(G[0][2]==\"X\"))or\n",
    "       ((G[0][0]==\"O\")and(G[0][1]==\"O\")and(G[0][2]==\"O\"))or\n",
    "       ((G[1][0]==\"O\")and(G[1][1]==\"O\")and(G[1][2]==\"O\"))or\n",
    "       ((G[2][0]==\"O\")and(G[2][1]==\"O\")and(G[2][2]==\"O\"))or\n",
    "       ((G[0][0]==\"O\")and(G[1][1]==\"O\")and(G[2][2]==\"O\"))or\n",
    "       ((G[2][0]==\"O\")and(G[1][1]==\"O\")and(G[0][2]==\"O\"))):\n",
    "        return \"Win\";\n",
    "    else:\n",
    "        for i in range(3):\n",
    "            for j in range(3):\n",
    "                if(G[i][j]==\" \"):\n",
    "                    return \"Continue\";\n",
    "    return \"Draw\";"
   ]
  },
  {
   "cell_type": "code",
   "execution_count": 5,
   "metadata": {},
   "outputs": [],
   "source": [
    "def FillCompRand(tictactoe):\n",
    "    count=0;\n",
    "    while(True):\n",
    "        x=random.randint(0,2);\n",
    "        y=random.randint(0,2);\n",
    "        if(tictactoe[x][y]==\" \"):\n",
    "            tictactoe[x][y]=\"X\";\n",
    "            return;\n",
    "        else:\n",
    "            count=count+1;\n",
    "            if(count==5):\n",
    "                break;\n",
    "    for i in range(3):\n",
    "        for j in range(3):\n",
    "            if(tictactoe==\" \"):\n",
    "                tictactoe[i][j]=\"X\";\n",
    "                return;"
   ]
  },
  {
   "cell_type": "code",
   "execution_count": 6,
   "metadata": {},
   "outputs": [],
   "source": [
    "def FillYou(x,y,tictactoe):\n",
    "    print(\"you:\");\n",
    "    tictactoe[x][y]=\"O\";\n",
    "    Print(tictactoe);\n",
    "    return;"
   ]
  },
  {
   "cell_type": "code",
   "execution_count": 7,
   "metadata": {},
   "outputs": [],
   "source": [
    "def Play():\n",
    "    turn =True\n",
    "    tictactoe=[[\" \",\" \",\" \"],[\" \",\" \",\" \"],[\" \",\" \",\" \"]];\n",
    "    print(\"Game starts\");\n",
    "    Print(tictactoe);\n",
    "    while(1):\n",
    "        res=checkWin(tictactoe);\n",
    "        if(res==\"Win\"):\n",
    "            if(turn==True):\n",
    "                print(\"I won the game!!!\");\n",
    "            else:\n",
    "                print(\"You won the game!!!\");\n",
    "            return;\n",
    "        if(res==\"Draw\"):\n",
    "            print(\"Game is a Draw :( Lets try again!!!\");\n",
    "            return;\n",
    "        if(turn==True):\n",
    "            FillCompRand(tictactoe);\n",
    "            turn=False;\n",
    "        else:\n",
    "            x=0\n",
    "            y=0\n",
    "            print(\"Do you want to quit:\");\n",
    "            quit=int(input());\n",
    "            if(quit==1):\n",
    "                return;\n",
    "            while(1):\n",
    "                print(\"chose slot: x,y\");\n",
    "                x=int(input());\n",
    "                y=int(input());\n",
    "                if((x>=0)and(x<=2)and(y<=2)and(y>=0)):\n",
    "                    break;\n",
    "                print(\"wrong input choose again!\");\n",
    "            FillYou(x,y,tictactoe);  \n",
    "            turn=True;"
   ]
  },
  {
   "cell_type": "code",
   "execution_count": 8,
   "metadata": {},
   "outputs": [
    {
     "name": "stdout",
     "output_type": "stream",
     "text": [
      "Game starts\n",
      " ___________\n",
      "|   |   |   |\n",
      "|___|___|___|\n",
      "|   |   |   |\n",
      "|___|___|___|\n",
      "|   |   |   |\n",
      "|___|___|___|\n",
      "Do you want to quit:\n",
      "0\n",
      "chose slot: x,y\n",
      "0\n",
      "1\n",
      "you:\n",
      " ___________\n",
      "|   | O |   |\n",
      "|___|___|___|\n",
      "|   | X |   |\n",
      "|___|___|___|\n",
      "|   |   |   |\n",
      "|___|___|___|\n",
      "Do you want to quit:\n",
      "0\n",
      "chose slot: x,y\n",
      "1\n",
      "2\n",
      "you:\n",
      " ___________\n",
      "|   | O |   |\n",
      "|___|___|___|\n",
      "|   | X | O |\n",
      "|___|___|___|\n",
      "|   |   | X |\n",
      "|___|___|___|\n",
      "Do you want to quit:\n",
      "0\n",
      "chose slot: x,y\n",
      "0\n",
      "0\n",
      "you:\n",
      " ___________\n",
      "| O | O |   |\n",
      "|___|___|___|\n",
      "|   | X | O |\n",
      "|___|___|___|\n",
      "| X |   | X |\n",
      "|___|___|___|\n",
      "Do you want to quit:\n",
      "0\n",
      "chose slot: x,y\n",
      "0\n",
      "1\n",
      "you:\n",
      " ___________\n",
      "| O | O |   |\n",
      "|___|___|___|\n",
      "| X | X | O |\n",
      "|___|___|___|\n",
      "| X |   | X |\n",
      "|___|___|___|\n",
      "You won the game!!!\n"
     ]
    }
   ],
   "source": [
    "Play()"
   ]
  }
 ],
 "metadata": {
  "kernelspec": {
   "display_name": "Python 3",
   "language": "python",
   "name": "python3"
  },
  "language_info": {
   "codemirror_mode": {
    "name": "ipython",
    "version": 3
   },
   "file_extension": ".py",
   "mimetype": "text/x-python",
   "name": "python",
   "nbconvert_exporter": "python",
   "pygments_lexer": "ipython3",
   "version": "3.7.4"
  }
 },
 "nbformat": 4,
 "nbformat_minor": 2
}
