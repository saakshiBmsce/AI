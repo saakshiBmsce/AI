{
 "cells": [
  {
   "cell_type": "code",
   "execution_count": 9,
   "metadata": {},
   "outputs": [],
   "source": [
    "def moveRight(state):\n",
    "    if state[0]=='L':\n",
    "        state[0]='R'\n",
    "        print(\"Move right  state: \", state)\n",
    "    return state\n",
    "\n",
    "def moveLeft(state):\n",
    "    if state[0]=='R':\n",
    "        state[0]='L'\n",
    "        print(\"Move left  state: \", state)\n",
    "    return state"
   ]
  },
  {
   "cell_type": "code",
   "execution_count": 10,
   "metadata": {},
   "outputs": [],
   "source": [
    "def suck(state):\n",
    "    if state[0]=='L' and state[1]=='D':\n",
    "        state[1]='C'\n",
    "    elif state[0]=='R' and state[2]=='D':\n",
    "        state[2]='C'\n",
    "    print(\"Suck  state: \", state)\n",
    "    return state"
   ]
  },
  {
   "cell_type": "code",
   "execution_count": 15,
   "metadata": {},
   "outputs": [
    {
     "name": "stdout",
     "output_type": "stream",
     "text": [
      "Suck  state:  ['L', 'C', 'D']\n",
      "Move right  state:  ['R', 'C', 'D']\n",
      "Suck  state:  ['R', 'C', 'C']\n",
      "Move left  state:  ['L', 'C', 'C']\n"
     ]
    }
   ],
   "source": [
    "def vacuum_cleaner_agent(state):\n",
    "    if state[1]=='C' and state[2]=='C':\n",
    "        return \"Cleaned!!\"\n",
    "    else:\n",
    "        while(1):\n",
    "            if state[1]=='C' and state[2]=='C':\n",
    "                return \"Cleaned!!\"\n",
    "            if(state[0]=='L'):#Its on left side\n",
    "                if(state[1]=='D'):#and ih has dirt there\n",
    "                    state=suck(state)\n",
    "                state=moveRight(state)\n",
    "            else:#Its on right side \n",
    "                if(state[2]=='D'):#and it has dirt there\n",
    "                    state=suck(state)\n",
    "                state=moveLeft(state)\n",
    "    return \"Cleaned!!\"\n",
    "\n",
    "if __name__ == \"__main__\":\n",
    "    state=['L','D','D']\n",
    "    vacuum_cleaner_agent(state)"
   ]
  },
  {
   "cell_type": "code",
   "execution_count": null,
   "metadata": {},
   "outputs": [],
   "source": []
  }
 ],
 "metadata": {
  "kernelspec": {
   "display_name": "Python 3",
   "language": "python",
   "name": "python3"
  },
  "language_info": {
   "codemirror_mode": {
    "name": "ipython",
    "version": 3
   },
   "file_extension": ".py",
   "mimetype": "text/x-python",
   "name": "python",
   "nbconvert_exporter": "python",
   "pygments_lexer": "ipython3",
   "version": "3.7.4"
  }
 },
 "nbformat": 4,
 "nbformat_minor": 2
}
