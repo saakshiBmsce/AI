{
 "cells": [
  {
   "cell_type": "code",
   "execution_count": 28,
   "metadata": {},
   "outputs": [],
   "source": [
    "variable={'p':0,'q':1, 'r':2}\n",
    "priority={'~':3,'v':1,'^':2}\n",
    "def _eval(i, val1, val2):\n",
    "    if i == '^': \n",
    "        return val2 and val1\n",
    "    return val2 or val1\n",
    "\n",
    "def isOperand(c):\n",
    "    return c.isalpha() and c != 'v'\n",
    "\n",
    "\n",
    "def isLeftParanthesis(c):\n",
    "    return c == '('\n",
    "\n",
    "\n",
    "def isRightParanthesis(c):\n",
    "    return c == ')'\n",
    "\n",
    "\n",
    "def isEmpty(stack):\n",
    "    return len(stack) == 0\n",
    "\n",
    "\n",
    "def peek(stack):\n",
    "    return stack[-1]\n",
    "\n",
    "def hasLessOrEqualPriority(c1, c2):\n",
    "    try:\n",
    "        return priority[c1] <= priority[c2]\n",
    "    except KeyError:\n",
    "        return False"
   ]
  },
  {
   "cell_type": "code",
   "execution_count": 31,
   "metadata": {},
   "outputs": [],
   "source": [
    " def EliminateImplication(statement):\n",
    "    statement = statement.replace(\"=>\", \"-\")\n",
    "    while '-' in statement:\n",
    "        i = statement.index('-')\n",
    "        br = statement.index('[') if '[' in statement else 0\n",
    "        new_statement = '~' + statement[br:i] + 'v' + statement[i+1:]\n",
    "        statement = statement[:br] + new_statement if br > 0 else new_statement\n",
    "    print('After Eliminating Implications: ',statement)\n",
    "    print()\n",
    "    return statement"
   ]
  },
  {
   "cell_type": "code",
   "execution_count": 13,
   "metadata": {},
   "outputs": [
    {
     "name": "stdout",
     "output_type": "stream",
     "text": [
      "After Eliminating Implications:  P^Q\n",
      "\n"
     ]
    }
   ],
   "source": [
    "EliminateImplication('P^Q')"
   ]
  },
  {
   "cell_type": "code",
   "execution_count": 5,
   "metadata": {},
   "outputs": [],
   "source": [
    "def toPostfix(infix):\n",
    "    stack = []\n",
    "    postfix = ''\n",
    "    for c in infix:\n",
    "        if isOperand(c):\n",
    "            postfix += c\n",
    "        else:\n",
    "            if isLeftParanthesis(c):\n",
    "                stack.append(c)\n",
    "            elif isRightParanthesis(c):\n",
    "                operator = stack.pop()\n",
    "                while not isLeftParanthesis(operator):\n",
    "                    postfix += operator\n",
    "                    operator = stack.pop()\n",
    "            else:\n",
    "                while (not isEmpty(stack)) and hasLessOrEqualPriority(c, peek(stack)):\n",
    "                    postfix += stack.pop()\n",
    "                stack.append(c)\n",
    "    while (not isEmpty(stack)):\n",
    "        postfix += stack.pop()\n",
    "\n",
    "    return postfix"
   ]
  },
  {
   "cell_type": "code",
   "execution_count": 6,
   "metadata": {},
   "outputs": [],
   "source": [
    "def evaluatePostfix(exp, comb):\n",
    "    stack = []\n",
    "    for i in exp:\n",
    "        if isOperand(i):\n",
    "            stack.append(comb[variable[i]])\n",
    "        elif i == '~':\n",
    "            val1 = stack.pop()\n",
    "            stack.append(not val1)\n",
    "        else:\n",
    "            val1 = stack.pop()\n",
    "            val2 = stack.pop()\n",
    "            stack.append(_eval(i, val2, val1))\n",
    "    return stack.pop()"
   ]
  },
  {
   "cell_type": "code",
   "execution_count": 46,
   "metadata": {},
   "outputs": [],
   "source": [
    "def CheckEntailment():\n",
    "    kb='('\n",
    "    while 1:\n",
    "        kbStatement=(input(\"Enter the knowledge base statements\"))\n",
    "        if kbStatement=='e':\n",
    "            break\n",
    "        else:\n",
    "            kb+=EliminateImplication(kbStatement)+')^('\n",
    "    kb=kb[:-2]\n",
    "    print()\n",
    "    print()\n",
    "    print('KnowledgeBase :',kb)\n",
    "    \n",
    "    query=(input(\"Enter the query\"))\n",
    "    combinations=[[True,True,True],\n",
    "                  [True,True,False],\n",
    "                  [True,False,True],\n",
    "                  [True,False,False],\n",
    "                  [False,True,True],\n",
    "                  [False,True,False],\n",
    "                  [False,False,True],\n",
    "                  [False,False,False]]\n",
    "    postfix_kb=toPostfix(kb)\n",
    "    postfix_q=toPostfix(query)\n",
    "    print('P  Q  R  | kb  |  q  | ')\n",
    "    print('----------------------------')\n",
    "    for combination in combinations:\n",
    "        eval_kb=evaluatePostfix(postfix_kb,combination)\n",
    "        eval_q=evaluatePostfix(postfix_q,combination)    \n",
    "        for comb in combination:\n",
    "            if comb==True:\n",
    "                print('T ',end=' ')\n",
    "            else:\n",
    "                print('F ',end=' ')\n",
    "        if eval_kb==True:\n",
    "            print('|  T  |',end=' ')\n",
    "        else:\n",
    "            print('|  F  |',end=' ')\n",
    "        if eval_q==True:\n",
    "            print(' T  |')\n",
    "        else:\n",
    "            print(' F  |')\n",
    "        if(eval_kb==True):\n",
    "            if(eval_q==False):\n",
    "                print(\" Knowledge Base doesnt entail Query!!!\")\n",
    "                return False\n",
    "    print()\n",
    "    print(\"KnowledgeBase Entails Query!!\")"
   ]
  },
  {
   "cell_type": "code",
   "execution_count": 50,
   "metadata": {},
   "outputs": [
    {
     "name": "stdout",
     "output_type": "stream",
     "text": [
      "Enter the knowledge base statementsr^q\n",
      "After Eliminating Implications:  r^q\n",
      "\n",
      "Enter the knowledge base statementse\n",
      "\n",
      "\n",
      "KnowledgeBase : (r^q)\n",
      "Enter the queryr\n",
      "P  Q  R  | kb  |  q  | \n",
      "----------------------------\n",
      "T  T  T  |  T  |  T  |\n",
      "T  T  F  |  F  |  F  |\n",
      "T  F  T  |  F  |  T  |\n",
      "T  F  F  |  F  |  F  |\n",
      "F  T  T  |  T  |  T  |\n",
      "F  T  F  |  F  |  F  |\n",
      "F  F  T  |  F  |  T  |\n",
      "F  F  F  |  F  |  F  |\n",
      "\n",
      "KnowledgeBase Entails Query!!\n"
     ]
    }
   ],
   "source": [
    "CheckEntailment()"
   ]
  },
  {
   "cell_type": "code",
   "execution_count": 49,
   "metadata": {},
   "outputs": [
    {
     "name": "stdout",
     "output_type": "stream",
     "text": [
      "Enter the knowledge base statementsp=>~q\n",
      "After Eliminating Implications:  ~pv~q\n",
      "\n",
      "Enter the knowledge base statementse\n",
      "\n",
      "\n",
      "KnowledgeBase : (~pv~q)\n",
      "Enter the queryr\n",
      "P  Q  R  | kb  |  q  | \n",
      "----------------------------\n",
      "T  T  T  |  F  |  T  |\n",
      "T  T  F  |  F  |  F  |\n",
      "T  F  T  |  T  |  T  |\n",
      "T  F  F  |  T  |  F  |\n",
      " Knowledge Base doesnt entail Query!!!\n"
     ]
    },
    {
     "data": {
      "text/plain": [
       "False"
      ]
     },
     "execution_count": 49,
     "metadata": {},
     "output_type": "execute_result"
    }
   ],
   "source": [
    "CheckEntailment()"
   ]
  },
  {
   "cell_type": "code",
   "execution_count": 48,
   "metadata": {},
   "outputs": [
    {
     "name": "stdout",
     "output_type": "stream",
     "text": [
      "Enter the knowledge base statementsq=>r\n",
      "After Eliminating Implications:  ~qvr\n",
      "\n",
      "Enter the knowledge base statementse\n",
      "\n",
      "\n",
      "KnowledgeBase : (~qvr)\n",
      "Enter the queryr\n",
      "P  Q  R  | kb  |  q  | \n",
      "----------------------------\n",
      "T  T  T  |  T  |  T  |\n",
      "T  T  F  |  F  |  F  |\n",
      "T  F  T  |  T  |  T  |\n",
      "T  F  F  |  T  |  F  |\n",
      " Knowledge Base doesnt entail Query!!!\n"
     ]
    },
    {
     "data": {
      "text/plain": [
       "False"
      ]
     },
     "execution_count": 48,
     "metadata": {},
     "output_type": "execute_result"
    }
   ],
   "source": [
    "CheckEntailment()"
   ]
  },
  {
   "cell_type": "code",
   "execution_count": 47,
   "metadata": {},
   "outputs": [
    {
     "name": "stdout",
     "output_type": "stream",
     "text": [
      "Enter the knowledge base statementsq=>r\n",
      "After Eliminating Implications:  ~qvr\n",
      "\n",
      "Enter the knowledge base statementsp=>~q\n",
      "After Eliminating Implications:  ~pv~q\n",
      "\n",
      "Enter the knowledge base statementsrvq\n",
      "After Eliminating Implications:  rvq\n",
      "\n",
      "Enter the knowledge base statementse\n",
      "\n",
      "\n",
      "KnowledgeBase : (~qvr)^(~pv~q)^(rvq)\n",
      "Enter the queryr\n",
      "P  Q  R  | kb  |  q  | \n",
      "----------------------------\n",
      "T  T  T  |  F  |  T  |\n",
      "T  T  F  |  F  |  F  |\n",
      "T  F  T  |  T  |  T  |\n",
      "T  F  F  |  F  |  F  |\n",
      "F  T  T  |  T  |  T  |\n",
      "F  T  F  |  F  |  F  |\n",
      "F  F  T  |  T  |  T  |\n",
      "F  F  F  |  F  |  F  |\n",
      "\n",
      "KnowledgeBase Entails Query!!\n"
     ]
    }
   ],
   "source": [
    "CheckEntailment()"
   ]
  }
 ],
 "metadata": {
  "kernelspec": {
   "display_name": "Python 3",
   "language": "python",
   "name": "python3"
  },
  "language_info": {
   "codemirror_mode": {
    "name": "ipython",
    "version": 3
   },
   "file_extension": ".py",
   "mimetype": "text/x-python",
   "name": "python",
   "nbconvert_exporter": "python",
   "pygments_lexer": "ipython3",
   "version": "3.7.4"
  }
 },
 "nbformat": 4,
 "nbformat_minor": 2
}
