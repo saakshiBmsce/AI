{
 "cells": [
  {
   "cell_type": "code",
   "execution_count": 9,
   "metadata": {},
   "outputs": [],
   "source": [
    "def bfs(src,target):\n",
    "    queue = []\n",
    "    queue.append(src)\n",
    "    \n",
    "    exp = []\n",
    "    \n",
    "    while len(queue) > 0:\n",
    "        source = queue.pop(0)\n",
    "        exp.append(source)\n",
    "        \n",
    "        print(source)\n",
    "        \n",
    "        if source==target:\n",
    "            print(\"success\")\n",
    "            return\n",
    "        \n",
    "        poss_moves_to_do = []\n",
    "        poss_moves_to_do = possible_moves(source,exp)\n",
    "        \n",
    "        for move in poss_moves_to_do:\n",
    "            \n",
    "            if move not in exp and move not in queue:\n",
    "                queue.append(move)"
   ]
  },
  {
   "cell_type": "code",
   "execution_count": 10,
   "metadata": {},
   "outputs": [],
   "source": [
    "def possible_moves(state,visited_states): \n",
    "    #index of empty spot\n",
    "    b = state.index(-1)\n",
    "    \n",
    "    #directions array\n",
    "    d = []\n",
    "    #Add all the possible directions\n",
    "    \n",
    "    if b not in [0,1,2]: \n",
    "        d.append('u')\n",
    "    if b not in [6,7,8]: \n",
    "        d.append('d')\n",
    "    if b not in [0,3,6]: \n",
    "        d.append('l')\n",
    "    if b not in [2,5,8]: \n",
    "        d.append('r')\n",
    "        \n",
    "\n",
    "    # If direction is possible then add state to move\n",
    "    pos_moves_it_can = []\n",
    "    \n",
    "    # for all possible directions find the state if that move is played\n",
    "    ### Jump to gen function to generate all possible moves in the given directions\n",
    "    \n",
    "    for i in d:\n",
    "        pos_moves_it_can.append(gen(state,i,b))\n",
    "        \n",
    "    return [move_it_can for move_it_can in pos_moves_it_can if move_it_can not in visited_states]"
   ]
  },
  {
   "cell_type": "code",
   "execution_count": 11,
   "metadata": {},
   "outputs": [],
   "source": [
    "def gen(state, m, b):\n",
    "    temp = state.copy()                              \n",
    "    if m=='d':\n",
    "        temp[b+3],temp[b] = temp[b],temp[b+3]\n",
    "    if m=='u':\n",
    "        temp[b-3],temp[b] = temp[b],temp[b-3]\n",
    "    if m=='l':\n",
    "        temp[b-1],temp[b] = temp[b],temp[b-1]\n",
    "    if m=='r':\n",
    "        temp[b+1],temp[b] = temp[b],temp[b+1]\n",
    "    \n",
    "    # return new state with tested move to later check if \"src == target\"\n",
    "    return temp"
   ]
  },
  {
   "cell_type": "code",
   "execution_count": 12,
   "metadata": {},
   "outputs": [
    {
     "name": "stdout",
     "output_type": "stream",
     "text": [
      "[1, 2, 3, -1, 4, 5, 6, 7, 8]\n",
      "[-1, 2, 3, 1, 4, 5, 6, 7, 8]\n",
      "[1, 2, 3, 6, 4, 5, -1, 7, 8]\n",
      "[1, 2, 3, 4, -1, 5, 6, 7, 8]\n",
      "[2, -1, 3, 1, 4, 5, 6, 7, 8]\n",
      "[1, 2, 3, 6, 4, 5, 7, -1, 8]\n",
      "[1, -1, 3, 4, 2, 5, 6, 7, 8]\n",
      "[1, 2, 3, 4, 7, 5, 6, -1, 8]\n",
      "[1, 2, 3, 4, 5, -1, 6, 7, 8]\n",
      "success\n"
     ]
    }
   ],
   "source": [
    "src = [1,2,3,-1,4,5,6,7,8]\n",
    "target = [1,2,3,4,5,-1,6,7,8]         \n",
    "bfs(src, target)"
   ]
  }
 ],
 "metadata": {
  "kernelspec": {
   "display_name": "Python 3",
   "language": "python",
   "name": "python3"
  },
  "language_info": {
   "codemirror_mode": {
    "name": "ipython",
    "version": 3
   },
   "file_extension": ".py",
   "mimetype": "text/x-python",
   "name": "python",
   "nbconvert_exporter": "python",
   "pygments_lexer": "ipython3",
   "version": "3.7.4"
  }
 },
 "nbformat": 4,
 "nbformat_minor": 2
}
