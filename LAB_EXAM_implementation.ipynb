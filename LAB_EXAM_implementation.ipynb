{
 "cells": [
  {
   "cell_type": "code",
   "execution_count": 75,
   "metadata": {},
   "outputs": [],
   "source": [
    "def dfs(src,target,visited_states):\n",
    "    print(src)\n",
    "    src_state=[src[0],src[1]]\n",
    "    if src_state == target:\n",
    "        print(\"Found!!!\")\n",
    "        return True\n",
    "    visited_states.append(src_state)\n",
    "    moves = gen_next_possible_states(src_state)   \n",
    "    for move in moves:\n",
    "        move_state=[move[0],move[1]]\n",
    "        if move_state not in visited_states:\n",
    "            if dfs(move, target,visited_states):\n",
    "                return True\n",
    "    return False"
   ]
  },
  {
   "cell_type": "code",
   "execution_count": 76,
   "metadata": {},
   "outputs": [],
   "source": [
    "def gen_next_possible_states(present_state):\n",
    "    x=present_state[0]\n",
    "    y=present_state[1]\n",
    "    next_possible_states=[]\n",
    "    if(x<4):\n",
    "        next_possible_states.append([4,y,\"Fill jug X\"])\n",
    "    if(y<3):\n",
    "        next_possible_states.append([x,3,\"Fill jug Y\"])\n",
    "    if(x!=0):\n",
    "        next_possible_states.append([0,y,\"Empty jug X\"])\n",
    "    if(y!=0):\n",
    "        next_possible_states.append([x,0,\"Empty jug Y\"])\n",
    "    if(x+y>=4):\n",
    "        next_possible_states.append([4,(y-(4-x)),\"Pour from jug Y to jug X untill it fills\"])\n",
    "    if(x+y>=3):\n",
    "        next_possible_states.append([(x-(3-y)),3,\"Pour from jug X to jug Y untill it fills\"])\n",
    "    if(x+y<=4):\n",
    "        next_possible_states.append([x+y,0,\"Empty jug Y into X\"])\n",
    "    if(x+y<=3):\n",
    "        next_possible_states.append([0,x+y,\"Empty jug X into Y\"])\n",
    "    return next_possible_states"
   ]
  },
  {
   "cell_type": "code",
   "execution_count": 77,
   "metadata": {},
   "outputs": [],
   "source": [
    "def water_jug():\n",
    "    initial_state=[0,0]\n",
    "    goal_state=[0,2]\n",
    "    visited=[initial_state]\n",
    "    dfs(initial_state,goal_state,visited)"
   ]
  },
  {
   "cell_type": "code",
   "execution_count": 78,
   "metadata": {},
   "outputs": [
    {
     "name": "stdout",
     "output_type": "stream",
     "text": [
      "[0, 0]\n",
      "[4, 0, 'Fill jug X']\n",
      "[4, 3, 'Fill jug Y']\n",
      "[0, 3, 'Empty jug X']\n",
      "[3, 0, 'Empty jug Y into X']\n",
      "[3, 3, 'Fill jug Y']\n",
      "[4, 2, 'Pour from jug Y to jug X untill it fills']\n",
      "[0, 2, 'Empty jug X']\n",
      "Found!!!\n"
     ]
    }
   ],
   "source": [
    "water_jug()"
   ]
  }
 ],
 "metadata": {
  "kernelspec": {
   "display_name": "Python 3",
   "language": "python",
   "name": "python3"
  },
  "language_info": {
   "codemirror_mode": {
    "name": "ipython",
    "version": 3
   },
   "file_extension": ".py",
   "mimetype": "text/x-python",
   "name": "python",
   "nbconvert_exporter": "python",
   "pygments_lexer": "ipython3",
   "version": "3.7.4"
  }
 },
 "nbformat": 4,
 "nbformat_minor": 2
}
