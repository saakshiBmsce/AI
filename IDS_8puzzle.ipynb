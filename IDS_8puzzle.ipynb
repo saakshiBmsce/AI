{
 "cells": [
  {
   "cell_type": "code",
   "execution_count": 1,
   "metadata": {},
   "outputs": [],
   "source": [
    "def dfs(src,target,limit,visited_states):\n",
    "    if src == target:\n",
    "        return True\n",
    "    if limit <= 0:\n",
    "        return False\n",
    "    visited_states.append(src)\n",
    "    moves = possible_moves(src,visited_states)   \n",
    "    for move in moves:\n",
    "        if dfs(move, target, limit-1, visited_states):\n",
    "            return True\n",
    "    return False"
   ]
  },
  {
   "cell_type": "code",
   "execution_count": 2,
   "metadata": {},
   "outputs": [],
   "source": [
    "def possible_moves(state,visited_states): \n",
    "    b = state.index(-1)  \n",
    "    d = []\n",
    "    if b not in [0,1,2]: \n",
    "        d += 'u'\n",
    "    if b not in [6,7,8]:\n",
    "        d += 'd'\n",
    "    if b not in [2,5,8]: \n",
    "        d += 'r'\n",
    "    if b not in [0,3,6]: \n",
    "        d += 'l'\n",
    "    pos_moves = []\n",
    "    for move in d:\n",
    "        pos_moves.append(gen(state,move,b))\n",
    "    return [move for move in pos_moves if move not in visited_states]"
   ]
  },
  {
   "cell_type": "code",
   "execution_count": 3,
   "metadata": {},
   "outputs": [],
   "source": [
    "def gen(state, move, blank): \n",
    "    temp = state.copy()                              \n",
    "    if move == 'u':\n",
    "        temp[blank-3], temp[blank] = temp[blank], temp[blank-3]\n",
    "    if move == 'd':\n",
    "        temp[blank+3], temp[blank] = temp[blank], temp[blank+3]\n",
    "    if move == 'r':\n",
    "        temp[blank+1], temp[blank] = temp[blank], temp[blank+1]\n",
    "    if move == 'l':\n",
    "        temp[blank-1], temp[blank] = temp[blank], temp[blank-1]\n",
    "    return temp"
   ]
  },
  {
   "cell_type": "code",
   "execution_count": 4,
   "metadata": {},
   "outputs": [],
   "source": [
    "def iddfs(src,target,depth):\n",
    "    for i in range(depth):\n",
    "        visited_states = []\n",
    "        if dfs(src,target,i+1,visited_states):\n",
    "            return True\n",
    "    return False"
   ]
  },
  {
   "cell_type": "code",
   "execution_count": 5,
   "metadata": {},
   "outputs": [
    {
     "data": {
      "text/plain": [
       "True"
      ]
     },
     "execution_count": 5,
     "metadata": {},
     "output_type": "execute_result"
    }
   ],
   "source": [
    "src = [1,2,3,-1,4,5,6,7,8] \n",
    "target=[1,2,3,6,4,5,-1,7,8]\n",
    "\n",
    "depth = 1\n",
    "iddfs(src, target, depth)"
   ]
  }
 ],
 "metadata": {
  "kernelspec": {
   "display_name": "Python 3",
   "language": "python",
   "name": "python3"
  },
  "language_info": {
   "codemirror_mode": {
    "name": "ipython",
    "version": 3
   },
   "file_extension": ".py",
   "mimetype": "text/x-python",
   "name": "python",
   "nbconvert_exporter": "python",
   "pygments_lexer": "ipython3",
   "version": "3.7.4"
  }
 },
 "nbformat": 4,
 "nbformat_minor": 2
}
