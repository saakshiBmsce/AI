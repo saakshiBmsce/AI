{
 "cells": [
  {
   "cell_type": "code",
   "execution_count": 5,
   "metadata": {},
   "outputs": [],
   "source": [
    "def misplaced_tile_heuristic(present_state,goal_state):\n",
    "    count=0\n",
    "    for i in range(9):\n",
    "        if present_state[i]!=goal_state[i]:\n",
    "            count+=1\n",
    "    return count"
   ]
  },
  {
   "cell_type": "code",
   "execution_count": 6,
   "metadata": {},
   "outputs": [],
   "source": [
    "def print_state(present_state):\n",
    "    state = present_state.copy()\n",
    "    state[state.index(-1)] = ' '\n",
    "    print(state[0], state[1], state[2])\n",
    "    print(state[3], state[4], state[5])\n",
    "    print(state[6], state[7], state[8])\n",
    "    print()"
   ]
  },
  {
   "cell_type": "code",
   "execution_count": 7,
   "metadata": {},
   "outputs": [],
   "source": [
    "def possible_moves(state):\n",
    "    b = state.index(-1)  \n",
    "    d = []\n",
    "    if b not in [0,1,2]: \n",
    "        d += 'u'\n",
    "    if b not in [6,7,8]:\n",
    "        d += 'd'\n",
    "    if b not in [2,5,8]: \n",
    "        d += 'r'\n",
    "    if b not in [0,3,6]: \n",
    "        d += 'l'\n",
    "    pos_moves = []\n",
    "    for move in d:\n",
    "        pos_moves.append(gen(state,move,b))\n",
    "    return pos_moves"
   ]
  },
  {
   "cell_type": "code",
   "execution_count": 8,
   "metadata": {},
   "outputs": [],
   "source": [
    "def gen(state, move, blank):\n",
    "    temp = state.copy()                              \n",
    "    if move == 'u':\n",
    "        temp[blank-3], temp[blank] = temp[blank], temp[blank-3]\n",
    "    if move == 'd':\n",
    "        temp[blank+3], temp[blank] = temp[blank], temp[blank+3]\n",
    "    if move == 'r':\n",
    "        temp[blank+1], temp[blank] = temp[blank], temp[blank+1]\n",
    "    if move == 'l':\n",
    "        temp[blank-1], temp[blank] = temp[blank], temp[blank-1]\n",
    "    return temp"
   ]
  },
  {
   "cell_type": "code",
   "execution_count": 11,
   "metadata": {},
   "outputs": [],
   "source": [
    "def astar(present_state, goal_state):\n",
    "    queue = [[0,present_state]]\n",
    "    visited=[]\n",
    "    while len(queue)>0:\n",
    "        queue.sort()\n",
    "        present_state = queue.pop(0)\n",
    "        print_state(present_state[1])\n",
    "        visited.append(present_state[1])\n",
    "        if present_state[1] == goal_state:\n",
    "            print(\"Reached!!!\")\n",
    "            return\n",
    "        \n",
    "        next_possible_states = possible_moves(present_state[1])\n",
    "        for next_possible_state in next_possible_states:\n",
    "            if next_possible_state not in queue and next_possible_state not in visited:\n",
    "                queue.append([misplaced_tile_heuristic(next_possible_state,goal_state),next_possible_state])\n",
    "    \n",
    "    print(\"Fail!!!\")"
   ]
  },
  {
   "cell_type": "code",
   "execution_count": 12,
   "metadata": {},
   "outputs": [
    {
     "name": "stdout",
     "output_type": "stream",
     "text": [
      "1 2 3\n",
      "  4 5\n",
      "6 7 8\n",
      "\n",
      "1 2 3\n",
      "4   5\n",
      "6 7 8\n",
      "\n",
      "1 2 3\n",
      "4 5  \n",
      "6 7 8\n",
      "\n",
      "Reached!!!\n"
     ]
    }
   ],
   "source": [
    "src = [1,2,3,-1,4,5,6,7,8]\n",
    "target = [1,2,3,4,5,-1,6,7,8]         \n",
    "       \n",
    "astar(src, target)"
   ]
  }
 ],
 "metadata": {
  "kernelspec": {
   "display_name": "Python 3",
   "language": "python",
   "name": "python3"
  },
  "language_info": {
   "codemirror_mode": {
    "name": "ipython",
    "version": 3
   },
   "file_extension": ".py",
   "mimetype": "text/x-python",
   "name": "python",
   "nbconvert_exporter": "python",
   "pygments_lexer": "ipython3",
   "version": "3.7.4"
  }
 },
 "nbformat": 4,
 "nbformat_minor": 2
}
