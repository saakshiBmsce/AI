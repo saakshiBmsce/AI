{
 "cells": [
  {
   "cell_type": "code",
   "execution_count": 12,
   "metadata": {},
   "outputs": [
    {
     "name": "stdout",
     "output_type": "stream",
     "text": [
      "[0, 0, 0, 0, 0, 0]\n",
      "[1, 0, 0, 0, 0, 0]\n",
      "[2, 0, 0, 0, 0, 0]\n",
      "[3, 0, 8, 9, 10, 11]\n",
      "[4, 5, 6, 7, 0, 12]\n"
     ]
    }
   ],
   "source": [
    "grid = [[0, 1, 0, 0, 0, 0],\n",
    "        [0, 1, 0, 0, 0, 0],\n",
    "        [0, 1, 0, 0, 0, 0],\n",
    "        [0, 1, 0, 0, 0, 0],\n",
    "        [0, 0, 0, 0, 1, 0]]\n",
    "\n",
    "heuristic = [[9, 8, 7, 6, 5, 4],\n",
    "             [8, 7, 6, 5, 4, 3],\n",
    "             [7, 6, 5, 4, 3, 2],\n",
    "             [6, 5, 4, 3, 2, 1],\n",
    "             [5, 4, 3, 2, 1, 0]]\n",
    "\n",
    "init = [0, 0]\n",
    "goal = [len(grid)-1, len(grid[0])-1]\n",
    "cost = 1\n",
    "\n",
    "delta = [[-1, 0 ], # go up\n",
    "         [ 0, -1], # go left\n",
    "         [ 1, 0 ], # go down\n",
    "         [ 0, 1 ]] # go right\n",
    "\n",
    "    \n",
    "def search(grid,init,goal,cost,heuristic):\n",
    "    visited = [[0 for col in range(len(grid[0]))] for row in range(len(grid))]\n",
    "    visited[init[0]][init[1]] = 1\n",
    "\n",
    "    path = [[0 for col in range(len(grid[0]))] for row in range(len(grid))]\n",
    "\n",
    "    x = init[0]\n",
    "    y = init[1]\n",
    "    g = 0\n",
    "    f = g + heuristic[x][y]\n",
    "\n",
    "    open = [[f, g, x, y]]\n",
    "\n",
    "    found = False  # flag that is set when search is complete\n",
    "    deadend = False # flag set if we can't find expand\n",
    "    count = 0\n",
    "    \n",
    "    while not found and not deadend:\n",
    "        if len(open) == 0:\n",
    "            deadend = True\n",
    "            return \"Failed\"\n",
    "        else:\n",
    "            open.sort()\n",
    "            open.reverse()\n",
    "            next = open.pop()\n",
    "            f = next[0]\n",
    "            g = next[1]\n",
    "            x = next[2]\n",
    "            y = next[3]\n",
    "            \n",
    "            path[x][y] = count\n",
    "            count += 1\n",
    "            \n",
    "            if x == goal[0] and y == goal[1]:\n",
    "                found = True\n",
    "            else:\n",
    "                for i in range(len(delta)):\n",
    "                    x2 = x + delta[i][0]\n",
    "                    y2 = y + delta[i][1]\n",
    "                    if x2 >= 0 and x2 < len(grid) and y2 >=0 and y2 < len(grid[0]):\n",
    "                        if visited[x2][y2] == 0 and grid[x2][y2] == 0:\n",
    "                            g2 = g + cost\n",
    "                            f = g2 + heuristic[x2][y2]\n",
    "                            open.append([f, g2, x2, y2])\n",
    "                            visited[x2][y2] = 1\n",
    "    return path\n",
    "\n",
    "\n",
    "if __name__ == \"__main__\":\n",
    "    result = search2(grid,init,goal,cost,heuristic)\n",
    "    for el in result:\n",
    "        print (el)\n"
   ]
  }
 ],
 "metadata": {
  "kernelspec": {
   "display_name": "Python 3",
   "language": "python",
   "name": "python3"
  },
  "language_info": {
   "codemirror_mode": {
    "name": "ipython",
    "version": 3
   },
   "file_extension": ".py",
   "mimetype": "text/x-python",
   "name": "python",
   "nbconvert_exporter": "python",
   "pygments_lexer": "ipython3",
   "version": "3.7.4"
  }
 },
 "nbformat": 4,
 "nbformat_minor": 2
}
